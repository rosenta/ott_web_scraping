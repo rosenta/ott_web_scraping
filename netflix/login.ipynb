{
 "cells": [
  {
   "cell_type": "code",
   "execution_count": null,
   "id": "033e0258-39e5-4567-b261-60f689ef1720",
   "metadata": {},
   "outputs": [],
   "source": [
    "import json\n",
    "import requests\n",
    "\n",
    "from login import login_to_netflix\n",
    "\n",
    "# Example usage:\n",
    "username = \"anurag.anny@hotmail.com\"\n",
    "password = \"Salesforce@2023\"\n",
    "\n",
    "cookies, response_headers = login_to_netflix(username, password)\n",
    "\n",
    "# Save cookies to a JSON file\n",
    "with open('cookies.json', 'w') as fi:\n",
    "    json.dump(cookies, fi)\n",
    "\n",
    "\n",
    "print(\"cookies ---------------->\")\n",
    "print(json.dumps(cookies, indent=4))\n",
    "print(\"headers ---------------->\")\n",
    "print(json.dumps(dict(response_headers), indent=4))\n"
   ]
  },
  {
   "cell_type": "code",
   "execution_count": null,
   "id": "45a57193-296e-47c4-a253-b9d9f7fc93f0",
   "metadata": {},
   "outputs": [],
   "source": []
  },
  {
   "cell_type": "code",
   "execution_count": null,
   "id": "0f490bf8-6a99-4b83-a060-1e460b9e2aa0",
   "metadata": {},
   "outputs": [],
   "source": []
  },
  {
   "cell_type": "code",
   "execution_count": null,
   "id": "6e3a8aac-0be5-4d50-8b36-ff483cfdebf5",
   "metadata": {},
   "outputs": [],
   "source": []
  },
  {
   "cell_type": "code",
   "execution_count": null,
   "id": "41c11ab8-2ecf-43db-8990-b727627571e1",
   "metadata": {},
   "outputs": [],
   "source": []
  }
 ],
 "metadata": {
  "kernelspec": {
   "display_name": "Python 3 (ipykernel)",
   "language": "python",
   "name": "python3"
  },
  "language_info": {
   "codemirror_mode": {
    "name": "ipython",
    "version": 3
   },
   "file_extension": ".py",
   "mimetype": "text/x-python",
   "name": "python",
   "nbconvert_exporter": "python",
   "pygments_lexer": "ipython3",
   "version": "3.10.10"
  }
 },
 "nbformat": 4,
 "nbformat_minor": 5
}
