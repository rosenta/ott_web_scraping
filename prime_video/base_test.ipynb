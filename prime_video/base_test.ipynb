{
 "cells": [
  {
   "cell_type": "code",
   "execution_count": 1,
   "id": "0cd1c6bc-0bad-4640-a14e-7647fdcf5da2",
   "metadata": {},
   "outputs": [
    {
     "name": "stderr",
     "output_type": "stream",
     "text": [
      "/Users/rosenta/miniconda3/lib/python3.10/site-packages/urllib3/connectionpool.py:1045: InsecureRequestWarning: Unverified HTTPS request is being made to host 'www.primevideo.com'. Adding certificate verification is strongly advised. See: https://urllib3.readthedocs.io/en/1.26.x/advanced-usage.html#ssl-warnings\n",
      "  warnings.warn(\n"
     ]
    },
    {
     "data": {
      "text/plain": [
       "(200, 5960)"
      ]
     },
     "execution_count": 1,
     "metadata": {},
     "output_type": "execute_result"
    }
   ],
   "source": [
    "import requests\n",
    "\n",
    "cookies = {\n",
    "}\n",
    "\n",
    "headers = {\n",
    "    'Accept': '*/*',\n",
    "    'Accept-Language': 'en-GB,en;q=0.8',\n",
    "    'User-Agent': 'Mozilla/5.0 (Macintosh; Intel Mac OS X 10_15_7) AppleWebKit/537.36 (KHTML, like Gecko) Chrome/120.0.0.0 Safari/537.36',\n",
    "    'x-requested-with': 'XMLHttpRequest',\n",
    "}\n",
    "\n",
    "params = {\n",
    "    'pageType': 'search',\n",
    "    'pageId': 'flex',\n",
    "    'collectionType': 'Container',\n",
    "    'paginationTargetId': 'V2=4AEA6u69gYPeuYe-toZwYWdlSWSIcGFnZVR5cGWMY29sbGVjdGlvbklkiHdpZGdldElkjo5zd2lmdElkVmVyc2lvbt69ioRmbGV4i4ZzZWFyY2iMjqYxOjEyNkdXSlJKVTU0QldRIyNPWlNYRTVESk1OUVdZVERKT04yQY0PjoJWMg==',\n",
    "    'serviceToken': 'eyJ0eXBlIjoiaHBhZ2UiLCJuYXYiOmZhbHNlLCJzZWMiOiJjZW50ZXIiLCJwcmlkIjoiODI0MjZmOTUtYTNjNy00Zjg3LThmM2EtYmE4YmJkNjMxMWQwIiwiZmlsdGVyIjp7fSwib2Zmc2V0IjowLCJucHNpIjo4NDAsIm9yZXEiOiI1YjQyODcwYy03MjAxLTQ4ZWQtYmI2Ni0xYmJiNTI5ZTI5NTg6MTcwMzExOTQ1NjAwMCIsImFwTWF4Ijo1OTI4LCJzdHJpZCI6IjE6MTI2R1dKUkpVNTRCV1EjI09aU1hFNURKTU5RV1lUREpPTjJBIiwic3RLZXkiOiJ7XCJxdWVyeVwiOlwiZmllbGQtZW50aXR5X3R5cGU9VFYrU2hvdyZhdl9ieV90eXBlX2luX3RlcnJpdG9yeT1JTiUzQWFueSU3Q0lOJTNBc3ZvZCUzQWZyZWV3aXRoYWRzJnNvcnQ9ZmVhdHVyZWQtcmFuayZwX25fZW50aXR5X3R5cGU9MTM3MTI0NDAwMzEmc2VhcmNoLWFsaWFzPWluc3RhbnQtdmlkZW9cIixcInF1ZXJ5VHlwZVwiOlwiU1RSVUNUVVJFRFwiLFwicmFua2luZ1N0cmF0ZWd5XCI6XCJERUZBVUxUXCIsXCJuZXh0U3RhcnRJbmRleFwiOjg0MH0iLCJvcmVxayI6ImpzRGowUWwwenJXQllEVHlIcThQbkRxbUc3ZnJKaTM1cnh6RXpERXppckk9Iiwib3JlcWt2IjoxfQ==',\n",
    "    'startIndex': '5920'\n",
    "}\n",
    "\n",
    "response = requests.get('https://www.primevideo.com/api/paginateCollection', params=params, cookies=cookies, headers=headers, verify=False)\n",
    "response.status_code, response.json()[\"startIndex\"]\n"
   ]
  },
  {
   "cell_type": "code",
   "execution_count": 3,
   "id": "043fcffe-2b10-4467-9584-a728c9c22ad3",
   "metadata": {},
   "outputs": [
    {
     "data": {
      "text/plain": [
       "40"
      ]
     },
     "execution_count": 3,
     "metadata": {},
     "output_type": "execute_result"
    }
   ],
   "source": [
    "len(response.json()[\"items\"])"
   ]
  },
  {
   "cell_type": "code",
   "execution_count": 5,
   "id": "3ef14eca-24bb-461b-b985-ac1697ea2f93",
   "metadata": {},
   "outputs": [],
   "source": [
    "# response.json()[\"items\"][-1]"
   ]
  },
  {
   "cell_type": "code",
   "execution_count": null,
   "id": "29460787-302b-4640-bdae-c3618f5566ac",
   "metadata": {},
   "outputs": [],
   "source": []
  },
  {
   "cell_type": "code",
   "execution_count": 66,
   "id": "2666b79a-c089-4019-9838-e85a99dd6f34",
   "metadata": {},
   "outputs": [],
   "source": [
    "import requests\n",
    "movie_service_token = \"eyJ0eXBlIjoiaHBhZ2UiLCJuYXYiOmZhbHNlLCJwdCI6ImJyb3dzZSIsInBpIjoiZGVmYXVsdCIsInNlYyI6ImNlbnRlciIsInN0eXBlIjoic2VhcmNoIiwicXJ5IjoicHZfb2ZmZXJzPUlOOklOOjo6dm9kOi0xNzA1NDM4MjAwOjE3MDU0MzgyMDAtJmluZGV4PWV1LWFtYXpvbi12aWRlby1vdGhlciZwX25fZW50aXR5X3R5cGU9VFYgU2hvd3wxMzcxMjQzNzAzMSZzZWFyY2gtYWxpYXM9aW5zdGFudC12aWRlbyZicT0oYW5kIHNvcnQ6J2ZlYXR1cmVkLXJhbmsnIChub3QgYXZfcHJpbWFyeV9nZW5yZTonY2hpbGRyZW4nKSkiLCJ0eHQiOiJUb3AgVFYiLCJvZmZzZXQiOjAsIm5wc2kiOjIwLCJvcmVxIjoiYjA0YTA2NDYtOTgwOC00MmVmLWI1OTMtYjM0NmMwMjUzZDVlOjE3MDU0MzkwMjAwMDAiLCJzdEtleSI6IntcInNic2luXCI6MCxcImN1cnNpemVcIjowLFwicHJlc2l6ZVwiOjB9Iiwib3JlcWsiOiJqc0RqMFFsMHpyV0JZRFR5SHE4UG5EcW1HN2ZySmkzNXJ4ekV6REV6aXJJPSIsIm9yZXFrdiI6MX0=\"\n",
    "tv_shows_service_token = \"eyJ0eXBlIjoiZmlsdGVyIiwibmF2Ijp0cnVlLCJzZWMiOiJjZW50ZXIiLCJzdHlwZSI6InNlYXJjaCIsInFyeSI6InB2X29mZmVycz1JTjpJTjo6OnZvZDotMTcwNTQzOTQwMDoxNzA1NDM5NDAwLSZpbmRleD1ldS1hbWF6b24tdmlkZW8tb3RoZXImcF9uX2VudGl0eV90eXBlPTEzNzEyNDQwMDMxfFRWIFNob3cmc2VhcmNoLWFsaWFzPWluc3RhbnQtdmlkZW8mYnE9KGFuZCBzb3J0OidmZWF0dXJlZC1yYW5rJyAobm90IGF2X3ByaW1hcnlfZ2VucmU6J2NoaWxkcmVuJykpIiwidHh0IjoiVG9wIFRWIiwiZmlsdGVyIjp7fSwib2Zmc2V0IjowLCJucHNpIjowLCJvcmVxIjoiOWFlNDEzNmYtZWY1NC00MWQ1LWJmYmYtMjUwM2ExY2NiMmNlOjE3MDU0Mzk0MTAwMDAiLCJzdEtleSI6IntcInNic2luXCI6MCxcImN1cnNpemVcIjowLFwicHJlc2l6ZVwiOjB9Iiwib3JlcWsiOiJqc0RqMFFsMHpyV0JZRFR5SHE4UG5EcW1HN2ZySmkzNXJ4ekV6REV6aXJJPSIsIm9yZXFrdiI6MX0\"\n",
    "generic_service_token = \"eyJ0eXBlIjoicXVlcnkiLCJuYXYiOnRydWUsInBpIjoiZGVmYXVsdCIsInNlYyI6ImNlbnRlciIsInN0eXBlIjoic2VhcmNoIiwicXJ5IjoicF9uX2VudGl0eV90eXBlPVRWIFNob3cmaW5kZXg9ZXUtYW1hem9uLXZpZGVvLW90aGVyJmFkdWx0LXByb2R1Y3Q9MCZicT0oYW5kIHNvcnQ6J2ZlYXR1cmVkLXJhbmsnIChub3QgYXZfcHJpbWFyeV9nZW5yZTonY2hpbGRyZW4nKSkmYXZfYnlfdHlwZV9pbl90ZXJyaXRvcnk9SU46c3ZvZDpwcmltZSZzZWFyY2gtYWxpYXM9aW5zdGFudC12aWRlbyZxcy1hdl9yZXF1ZXN0X3R5cGU9NCZxcy1pcy1wcmltZS1jdXN0b21lcj0yIiwicnQiOiJsQVB0Vm5zbXIiLCJ0eHQiOiJUb3AgVFYiLCJvZmZzZXQiOjAsIm5wc2kiOjAsIm9yZXEiOiIzNzQ0NTc2NS1mMDY4LTQ3MzctYjlkZi01NzNlOTI0NmRmOWQ6MTYxMDY0MTI3NDAwMCIsInN0cmlkIjoiMToxSUFZRzBCVVQxRVZPIyNNWlFXR1pMVU1WU0VHWUxTTjUyWEdaTE0iLCJvcmVxayI6ImpzRGowUWwwenJXQllEVHlIcThQbkRxbUc3ZnJKaTM1cnh6RXpERXppckk9Iiwib3JlcWt2IjoxfQ\"\n",
    "\n",
    "\n",
    "def get_page_load_metadata(service_token, startindex=0):\n",
    "\n",
    "    headers = {\n",
    "        'Accept': '*/*',\n",
    "        'Accept-Language': 'en-GB,en;q=0.5',\n",
    "        'Connection': 'keep-alive',\n",
    "        'Sec-Fetch-Dest': 'empty',\n",
    "        'Sec-Fetch-Mode': 'cors',\n",
    "        'Sec-Fetch-Site': 'same-origin',\n",
    "        'Sec-GPC': '1',\n",
    "        'User-Agent': 'Mozilla/5.0 (Macintosh; Intel Mac OS X 10_15_7) AppleWebKit/537.36 (KHTML, like Gecko) Chrome/120.0.0.0 Safari/537.36',\n",
    "        'sec-ch-ua': '\"Not_A Brand\";v=\"8\", \"Chromium\";v=\"120\", \"Brave\";v=\"120\"',\n",
    "        'sec-ch-ua-mobile': '?0',\n",
    "        'x-requested-with': 'XMLHttpRequest',\n",
    "    }\n",
    "\n",
    "    params = {\n",
    "        'pageType': 'browse',\n",
    "        'pageId': 'default',\n",
    "        'collectionType': 'Container',\n",
    "        'paginationTargetId': 'V2=4AEA6u69gYPeuYe-toZwYWdlSWSIcGFnZVR5cGWMY29sbGVjdGlvbklkiHdpZGdldElkjo5zd2lmdElkVmVyc2lvbt6-iodkZWZhdWx0i4Zicm93c2WMjqRiMDRhMDY0Ni05ODA4LTQyZWYtYjU5My1iMzQ2YzAyNTNkNWWND46CVjI=',\n",
    "        'serviceToken': service_token,\n",
    "        'startIndex': str(startindex),\n",
    "        'variant': 'desktopOSX',\n",
    "        'actionScheme': 'default',\n",
    "        'payloadScheme': 'default',\n",
    "        'decorationScheme': 'web-search-decoration-tournaments-v2',\n",
    "        'featureScheme': 'web-search-v2',\n",
    "        'dynamicFeatures': [\n",
    "            'integration',\n",
    "            'CLIENT_DECORATION_ENABLE_DAAPI',\n",
    "            'ENABLE_DRAPER_CONTENT',\n",
    "            'HorizontalPagination',\n",
    "            'CleanSlate',\n",
    "            'EpgContainerPagination',\n",
    "            'ENABLE_GPCI',\n",
    "            'SupportsImageTextLinkTextInStandardHero',\n",
    "        ],\n",
    "        'widgetScheme': 'web-explorecs-v10',\n",
    "        'journeyIngressContext': '',\n",
    "    }\n",
    "\n",
    "    response = requests.get('https://www.primevideo.com/api/paginateCollection', params=params, headers=headers, verify=False)\n",
    "    return response.json()\n"
   ]
  },
  {
   "cell_type": "code",
   "execution_count": 97,
   "id": "fc834916",
   "metadata": {},
   "outputs": [],
   "source": [
    "import base64\n",
    "import json\n",
    "\n",
    "def get_service_token(startindex):\n",
    "    # Replace the encoded token with your actual token\n",
    "    encoded_token = \"eyJ0eXBlIjoicXVlcnkiLCJuYXYiOnRydWUsInBpIjoiZGVmYXVsdCIsInNlYyI6ImNlbnRlciIsInN0eXBlIjoic2VhcmNoIiwicXJ5IjoicF9uX2VudGl0eV90eXBlPVRWIFNob3cmaW5kZXg9ZXUtYW1hem9uLXZpZGVvLW90aGVyJmFkdWx0LXByb2R1Y3Q9MCZicT0oYW5kIHNvcnQ6J2ZlYXR1cmVkLXJhbmsnIChub3QgYXZfcHJpbWFyeV9nZW5yZTonY2hpbGRyZW4nKSkmYXZfYnlfdHlwZV9pbl90ZXJyaXRvcnk9SU46c3ZvZDpwcmltZSZzZWFyY2gtYWxpYXM9aW5zdGFudC12aWRlbyZxcy1hdl9yZXF1ZXN0X3R5cGU9NCZxcy1pcy1wcmltZS1jdXN0b21lcj0yIiwicnQiOiJsQVB0Vm5zbXIiLCJ0eHQiOiJUb3AgVFYiLCJvZmZzZXQiOjAsIm5wc2kiOjAsIm9yZXEiOiIzNzQ0NTc2NS1mMDY4LTQ3MzctYjlkZi01NzNlOTI0NmRmOWQ6MTYxMDY0MTI3NDAwMCIsInN0cmlkIjoiMToxSUFZRzBCVVQxRVZPIyNNWlFXR1pMVU1WU0VHWUxTTjUyWEdaTE0iLCJvcmVxayI6ImpzRGowUWwwenJXQllEVHlIcThQbkRxbUc3ZnJKaTM1cnh6RXpERXppckk9Iiwib3JlcWt2IjoxfQ\"\n",
    "\n",
    "    # Add padding to the encoded string if needed\n",
    "    padding = len(encoded_token) % 4\n",
    "    if padding:\n",
    "        encoded_token += '=' * (4 - padding)\n",
    "\n",
    "    # Decode the Base64 string\n",
    "    decoded_bytes = base64.urlsafe_b64decode(encoded_token)\n",
    "    decoded_string = decoded_bytes.decode('utf-8')\n",
    "\n",
    "    # Parse the JSON data\n",
    "    decoded_data = json.loads(decoded_string)\n",
    "\n",
    "    # updating decoded data\n",
    "    decoded_data[\"npsi\"] = startindex\n",
    "\n",
    "    return base64.b64encode(json.dumps(decoded_data).encode()).decode()\n",
    "\n"
   ]
  },
  {
   "cell_type": "code",
   "execution_count": 104,
   "id": "3ff37e6e",
   "metadata": {},
   "outputs": [
    {
     "name": "stdout",
     "output_type": "stream",
     "text": [
      "eyJ0eXBlIjogInF1ZXJ5IiwgIm5hdiI6IHRydWUsICJwaSI6ICJkZWZhdWx0IiwgInNlYyI6ICJjZW50ZXIiLCAic3R5cGUiOiAic2VhcmNoIiwgInFyeSI6ICJwX25fZW50aXR5X3R5cGU9VFYgU2hvdyZpbmRleD1ldS1hbWF6b24tdmlkZW8tb3RoZXImYWR1bHQtcHJvZHVjdD0wJmJxPShhbmQgc29ydDonZmVhdHVyZWQtcmFuaycgKG5vdCBhdl9wcmltYXJ5X2dlbnJlOidjaGlsZHJlbicpKSZhdl9ieV90eXBlX2luX3RlcnJpdG9yeT1JTjpzdm9kOnByaW1lJnNlYXJjaC1hbGlhcz1pbnN0YW50LXZpZGVvJnFzLWF2X3JlcXVlc3RfdHlwZT00JnFzLWlzLXByaW1lLWN1c3RvbWVyPTIiLCAicnQiOiAibEFQdFZuc21yIiwgInR4dCI6ICJUb3AgVFYiLCAib2Zmc2V0IjogMCwgIm5wc2kiOiAwLCAib3JlcSI6ICIzNzQ0NTc2NS1mMDY4LTQ3MzctYjlkZi01NzNlOTI0NmRmOWQ6MTYxMDY0MTI3NDAwMCIsICJzdHJpZCI6ICIxOjFJQVlHMEJVVDFFVk8jI01aUVdHWkxVTVZTRUdZTFNONTJYR1pMTSIsICJvcmVxayI6ICJqc0RqMFFsMHpyV0JZRFR5SHE4UG5EcW1HN2ZySmkzNXJ4ekV6REV6aXJJPSIsICJvcmVxa3YiOiAxfQ==\n"
     ]
    },
    {
     "name": "stderr",
     "output_type": "stream",
     "text": [
      "/Users/rosenta/miniconda3/lib/python3.10/site-packages/urllib3/connectionpool.py:1045: InsecureRequestWarning: Unverified HTTPS request is being made to host 'www.primevideo.com'. Adding certificate verification is strongly advised. See: https://urllib3.readthedocs.io/en/1.26.x/advanced-usage.html#ssl-warnings\n",
      "  warnings.warn(\n"
     ]
    },
    {
     "name": "stdout",
     "output_type": "stream",
     "text": [
      "new startindex -> 40\n",
      "eyJ0eXBlIjogInF1ZXJ5IiwgIm5hdiI6IHRydWUsICJwaSI6ICJkZWZhdWx0IiwgInNlYyI6ICJjZW50ZXIiLCAic3R5cGUiOiAic2VhcmNoIiwgInFyeSI6ICJwX25fZW50aXR5X3R5cGU9VFYgU2hvdyZpbmRleD1ldS1hbWF6b24tdmlkZW8tb3RoZXImYWR1bHQtcHJvZHVjdD0wJmJxPShhbmQgc29ydDonZmVhdHVyZWQtcmFuaycgKG5vdCBhdl9wcmltYXJ5X2dlbnJlOidjaGlsZHJlbicpKSZhdl9ieV90eXBlX2luX3RlcnJpdG9yeT1JTjpzdm9kOnByaW1lJnNlYXJjaC1hbGlhcz1pbnN0YW50LXZpZGVvJnFzLWF2X3JlcXVlc3RfdHlwZT00JnFzLWlzLXByaW1lLWN1c3RvbWVyPTIiLCAicnQiOiAibEFQdFZuc21yIiwgInR4dCI6ICJUb3AgVFYiLCAib2Zmc2V0IjogMCwgIm5wc2kiOiA0MCwgIm9yZXEiOiAiMzc0NDU3NjUtZjA2OC00NzM3LWI5ZGYtNTczZTkyNDZkZjlkOjE2MTA2NDEyNzQwMDAiLCAic3RyaWQiOiAiMToxSUFZRzBCVVQxRVZPIyNNWlFXR1pMVU1WU0VHWUxTTjUyWEdaTE0iLCAib3JlcWsiOiAianNEajBRbDB6cldCWURUeUhxOFBuRHFtRzdmckppMzVyeHpFekRFemlyST0iLCAib3JlcWt2IjogMX0=\n"
     ]
    },
    {
     "name": "stderr",
     "output_type": "stream",
     "text": [
      "/Users/rosenta/miniconda3/lib/python3.10/site-packages/urllib3/connectionpool.py:1045: InsecureRequestWarning: Unverified HTTPS request is being made to host 'www.primevideo.com'. Adding certificate verification is strongly advised. See: https://urllib3.readthedocs.io/en/1.26.x/advanced-usage.html#ssl-warnings\n",
      "  warnings.warn(\n"
     ]
    },
    {
     "data": {
      "text/plain": [
       "{'TV Show': 40}"
      ]
     },
     "execution_count": 104,
     "metadata": {},
     "output_type": "execute_result"
    }
   ],
   "source": [
    "from collections import Counter\n",
    "import time \n",
    "\n",
    "entity_type_set = []\n",
    "\n",
    "\n",
    "startindex = 0\n",
    "\n",
    "while startindex < 200:\n",
    "    service_token = get_service_token(startindex)\n",
    "    print(service_token)\n",
    "    response = get_page_load_metadata(service_token, startindex=startindex)\n",
    "    time.sleep(1)\n",
    "    \n",
    "    if response[\"items\"]:\n",
    "        for i in response[\"items\"]:\n",
    "            entity_type_set.append(i[\"entityType\"])\n",
    "\n",
    "    startindex = response.get(\"pagination\", {}).get(\"startIndex\", None)\n",
    "\n",
    "    if startindex == None:\n",
    "        break\n",
    "\n",
    "    print(f\"new startindex -> {startindex}\")\n",
    "\n",
    "dict(Counter(entity_type_set))"
   ]
  },
  {
   "cell_type": "code",
   "execution_count": null,
   "id": "12a2a44f",
   "metadata": {},
   "outputs": [],
   "source": []
  },
  {
   "cell_type": "code",
   "execution_count": 103,
   "id": "e0c5a028",
   "metadata": {},
   "outputs": [
    {
     "name": "stderr",
     "output_type": "stream",
     "text": [
      "/Users/rosenta/miniconda3/lib/python3.10/site-packages/urllib3/connectionpool.py:1045: InsecureRequestWarning: Unverified HTTPS request is being made to host 'www.primevideo.com'. Adding certificate verification is strongly advised. See: https://urllib3.readthedocs.io/en/1.26.x/advanced-usage.html#ssl-warnings\n",
      "  warnings.warn(\n"
     ]
    },
    {
     "data": {
      "text/plain": [
       "40"
      ]
     },
     "execution_count": 103,
     "metadata": {},
     "output_type": "execute_result"
    }
   ],
   "source": [
    "movie_service_token = \"eyJ0eXBlIjoiaHBhZ2UiLCJuYXYiOmZhbHNlLCJwdCI6ImJyb3dzZSIsInBpIjoiZGVmYXVsdCIsInNlYyI6ImNlbnRlciIsInN0eXBlIjoic2VhcmNoIiwicXJ5IjoicHZfb2ZmZXJzPUlOOklOOjo6dm9kOi0xNzA1NDM4MjAwOjE3MDU0MzgyMDAtJmluZGV4PWV1LWFtYXpvbi12aWRlby1vdGhlciZwX25fZW50aXR5X3R5cGU9VFYgU2hvd3wxMzcxMjQzNzAzMSZzZWFyY2gtYWxpYXM9aW5zdGFudC12aWRlbyZicT0oYW5kIHNvcnQ6J2ZlYXR1cmVkLXJhbmsnIChub3QgYXZfcHJpbWFyeV9nZW5yZTonY2hpbGRyZW4nKSkiLCJ0eHQiOiJUb3AgVFYiLCJvZmZzZXQiOjAsIm5wc2kiOjIwLCJvcmVxIjoiYjA0YTA2NDYtOTgwOC00MmVmLWI1OTMtYjM0NmMwMjUzZDVlOjE3MDU0MzkwMjAwMDAiLCJzdEtleSI6IntcInNic2luXCI6MCxcImN1cnNpemVcIjowLFwicHJlc2l6ZVwiOjB9Iiwib3JlcWsiOiJqc0RqMFFsMHpyV0JZRFR5SHE4UG5EcW1HN2ZySmkzNXJ4ekV6REV6aXJJPSIsIm9yZXFrdiI6MX0=\"\n",
    "tv_shows_service_token = \"eyJ0eXBlIjoiZmlsdGVyIiwibmF2Ijp0cnVlLCJzZWMiOiJjZW50ZXIiLCJzdHlwZSI6InNlYXJjaCIsInFyeSI6InB2X29mZmVycz1JTjpJTjo6OnZvZDotMTcwNTQzOTQwMDoxNzA1NDM5NDAwLSZpbmRleD1ldS1hbWF6b24tdmlkZW8tb3RoZXImcF9uX2VudGl0eV90eXBlPTEzNzEyNDQwMDMxfFRWIFNob3cmc2VhcmNoLWFsaWFzPWluc3RhbnQtdmlkZW8mYnE9KGFuZCBzb3J0OidmZWF0dXJlZC1yYW5rJyAobm90IGF2X3ByaW1hcnlfZ2VucmU6J2NoaWxkcmVuJykpIiwidHh0IjoiVG9wIFRWIiwiZmlsdGVyIjp7fSwib2Zmc2V0IjowLCJucHNpIjowLCJvcmVxIjoiOWFlNDEzNmYtZWY1NC00MWQ1LWJmYmYtMjUwM2ExY2NiMmNlOjE3MDU0Mzk0MTAwMDAiLCJzdEtleSI6IntcInNic2luXCI6MCxcImN1cnNpemVcIjowLFwicHJlc2l6ZVwiOjB9Iiwib3JlcWsiOiJqc0RqMFFsMHpyV0JZRFR5SHE4UG5EcW1HN2ZySmkzNXJ4ekV6REV6aXJJPSIsIm9yZXFrdiI6MX0\"\n",
    "generic_service_token = \"eyJ0eXBlIjoicXVlcnkiLCJuYXYiOnRydWUsInBpIjoiZGVmYXVsdCIsInNlYyI6ImNlbnRlciIsInN0eXBlIjoic2VhcmNoIiwicXJ5IjoicF9uX2VudGl0eV90eXBlPVRWIFNob3cmaW5kZXg9ZXUtYW1hem9uLXZpZGVvLW90aGVyJmFkdWx0LXByb2R1Y3Q9MCZicT0oYW5kIHNvcnQ6J2ZlYXR1cmVkLXJhbmsnIChub3QgYXZfcHJpbWFyeV9nZW5yZTonY2hpbGRyZW4nKSkmYXZfYnlfdHlwZV9pbl90ZXJyaXRvcnk9SU46c3ZvZDpwcmltZSZzZWFyY2gtYWxpYXM9aW5zdGFudC12aWRlbyZxcy1hdl9yZXF1ZXN0X3R5cGU9NCZxcy1pcy1wcmltZS1jdXN0b21lcj0yIiwicnQiOiJsQVB0Vm5zbXIiLCJ0eHQiOiJUb3AgVFYiLCJvZmZzZXQiOjAsIm5wc2kiOjAsIm9yZXEiOiIzNzQ0NTc2NS1mMDY4LTQ3MzctYjlkZi01NzNlOTI0NmRmOWQ6MTYxMDY0MTI3NDAwMCIsInN0cmlkIjoiMToxSUFZRzBCVVQxRVZPIyNNWlFXR1pMVU1WU0VHWUxTTjUyWEdaTE0iLCJvcmVxayI6ImpzRGowUWwwenJXQllEVHlIcThQbkRxbUc3ZnJKaTM1cnh6RXpERXppckk9Iiwib3JlcWt2IjoxfQ\"\n",
    "\n",
    "\n",
    "headers = {\n",
    "    'Accept': '*/*',\n",
    "    'Accept-Language': 'en-GB,en;q=0.5',\n",
    "    'Connection': 'keep-alive',\n",
    "    'Sec-Fetch-Dest': 'empty',\n",
    "    'Sec-Fetch-Mode': 'cors',\n",
    "    'Sec-Fetch-Site': 'same-origin',\n",
    "    'Sec-GPC': '1',\n",
    "    'User-Agent': 'Mozilla/5.0 (Macintosh; Intel Mac OS X 10_15_7) AppleWebKit/537.36 (KHTML, like Gecko) Chrome/120.0.0.0 Safari/537.36',\n",
    "    'sec-ch-ua': '\"Not_A Brand\";v=\"8\", \"Chromium\";v=\"120\", \"Brave\";v=\"120\"',\n",
    "    'sec-ch-ua-mobile': '?0',\n",
    "    'x-requested-with': 'XMLHttpRequest',\n",
    "}\n",
    "\n",
    "params = {\n",
    "    'pageType': 'browse',\n",
    "    'pageId': 'default',\n",
    "    'collectionType': 'Container',\n",
    "    'paginationTargetId': 'V2=4AEA6u69gYPeuYe-toZwYWdlSWSIcGFnZVR5cGWMY29sbGVjdGlvbklkiHdpZGdldElkjo5zd2lmdElkVmVyc2lvbt6-iodkZWZhdWx0i4Zicm93c2WMjqRiMDRhMDY0Ni05ODA4LTQyZWYtYjU5My1iMzQ2YzAyNTNkNWWND46CVjI=',\n",
    "    'serviceToken': \"eyJ0eXBlIjogInF1ZXJ5IiwgIm5hdiI6IHRydWUsICJwaSI6ICJkZWZhdWx0IiwgInNlYyI6ICJjZW50ZXIiLCAic3R5cGUiOiAic2VhcmNoIiwgInFyeSI6ICJwX25fZW50aXR5X3R5cGU9VFYgU2hvdyZpbmRleD1ldS1hbWF6b24tdmlkZW8tb3RoZXImYWR1bHQtcHJvZHVjdD0wJmJxPShhbmQgc29ydDonZmVhdHVyZWQtcmFuaycgKG5vdCBhdl9wcmltYXJ5X2dlbnJlOidjaGlsZHJlbicpKSZhdl9ieV90eXBlX2luX3RlcnJpdG9yeT1JTjpzdm9kOnByaW1lJnNlYXJjaC1hbGlhcz1pbnN0YW50LXZpZGVvJnFzLWF2X3JlcXVlc3RfdHlwZT00JnFzLWlzLXByaW1lLWN1c3RvbWVyPTIiLCAicnQiOiAibEFQdFZuc21yIiwgInR4dCI6ICJUb3AgVFYiLCAib2Zmc2V0IjogMCwgIm5wc2kiOiAwLCAib3JlcSI6ICIzNzQ0NTc2NS1mMDY4LTQ3MzctYjlkZi01NzNlOTI0NmRmOWQ6MTYxMDY0MTI3NDAwMCIsICJzdHJpZCI6ICIxOjFJQVlHMEJVVDFFVk8jI01aUVdHWkxVTVZTRUdZTFNONTJYR1pMTSIsICJvcmVxayI6ICJqc0RqMFFsMHpyV0JZRFR5SHE4UG5EcW1HN2ZySmkzNXJ4ekV6REV6aXJJPSIsICJvcmVxa3YiOiAxfQ==\",\n",
    "    'startIndex': \"0\",\n",
    "    'variant': 'desktopOSX',\n",
    "    'actionScheme': 'default',\n",
    "    'payloadScheme': 'default',\n",
    "    'decorationScheme': 'web-search-decoration-tournaments-v2',\n",
    "    'featureScheme': 'web-search-v2',\n",
    "    'dynamicFeatures': [\n",
    "        'integration',\n",
    "        'CLIENT_DECORATION_ENABLE_DAAPI',\n",
    "        'ENABLE_DRAPER_CONTENT',\n",
    "        'HorizontalPagination',\n",
    "        'CleanSlate',\n",
    "        'EpgContainerPagination',\n",
    "        'ENABLE_GPCI',\n",
    "        'SupportsImageTextLinkTextInStandardHero',\n",
    "    ],\n",
    "    'widgetScheme': 'web-explorecs-v10',\n",
    "    'journeyIngressContext': '',\n",
    "}\n",
    "\n",
    "response = requests.get('https://www.primevideo.com/api/paginateCollection', params=params, headers=headers, verify=False)\n",
    "result_data = response.json()\n",
    "len(result_data[\"items\"])"
   ]
  },
  {
   "cell_type": "code",
   "execution_count": 94,
   "id": "f7949afc",
   "metadata": {},
   "outputs": [
    {
     "name": "stdout",
     "output_type": "stream",
     "text": [
      "{'type': 'query', 'nav': True, 'pi': 'default', 'sec': 'center', 'stype': 'search', 'qry': \"p_n_entity_type=TV Show&index=eu-amazon-video-other&adult-product=0&bq=(and sort:'featured-rank' (not av_primary_genre:'children'))&av_by_type_in_territory=IN:svod:prime&search-alias=instant-video&qs-av_request_type=4&qs-is-prime-customer=2\", 'rt': 'lAPtVnsmr', 'txt': 'Top TV', 'offset': 0, 'npsi': 0, 'oreq': '37445765-f068-4737-b9df-573e9246df9d:1610641274000', 'strid': '1:1IAYG0BUT1EVO##MZQWGZLUMVSEGYLSN52XGZLM', 'oreqk': 'jsDj0Ql0zrWBYDTyHq8PnDqmG7frJi35rxzEzDEzirI=', 'oreqkv': 1}\n"
     ]
    },
    {
     "name": "stderr",
     "output_type": "stream",
     "text": [
      "/Users/rosenta/miniconda3/lib/python3.10/site-packages/urllib3/connectionpool.py:1045: InsecureRequestWarning: Unverified HTTPS request is being made to host 'www.primevideo.com'. Adding certificate verification is strongly advised. See: https://urllib3.readthedocs.io/en/1.26.x/advanced-usage.html#ssl-warnings\n",
      "  warnings.warn(\n"
     ]
    },
    {
     "data": {
      "text/plain": [
       "(0, None)"
      ]
     },
     "execution_count": 94,
     "metadata": {},
     "output_type": "execute_result"
    }
   ],
   "source": [
    "response = get_page_load_metadata(update_service_token(0), startindex=0)\n",
    "len(response[\"items\"]), response.get(\"pagination\", {}).get(\"startIndex\", None)"
   ]
  },
  {
   "cell_type": "code",
   "execution_count": 81,
   "id": "7b853559",
   "metadata": {},
   "outputs": [],
   "source": []
  },
  {
   "cell_type": "code",
   "execution_count": null,
   "id": "e9074cbe",
   "metadata": {},
   "outputs": [],
   "source": []
  },
  {
   "cell_type": "code",
   "execution_count": null,
   "id": "9d77b046",
   "metadata": {},
   "outputs": [],
   "source": []
  },
  {
   "cell_type": "code",
   "execution_count": 63,
   "id": "c8f7b51d",
   "metadata": {},
   "outputs": [
    {
     "name": "stdout",
     "output_type": "stream",
     "text": [
      "eyd0eXBlJzogJ3F1ZXJ5JywgJ25hdic6IFRydWUsICdwaSc6ICdkZWZhdWx0JywgJ3NlYyc6ICdjZW50ZXInLCAnc3R5cGUnOiAnc2VhcmNoJywgJ3FyeSc6ICJwX25fZW50aXR5X3R5cGU9VFYgU2hvdyZpbmRleD1ldS1hbWF6b24tdmlkZW8tb3RoZXImYWR1bHQtcHJvZHVjdD0wJmJxPShhbmQgc29ydDonZmVhdHVyZWQtcmFuaycgKG5vdCBhdl9wcmltYXJ5X2dlbnJlOidjaGlsZHJlbicpKSZhdl9ieV90eXBlX2luX3RlcnJpdG9yeT1JTjpzdm9kOnByaW1lJnNlYXJjaC1hbGlhcz1pbnN0YW50LXZpZGVvJnFzLWF2X3JlcXVlc3RfdHlwZT00JnFzLWlzLXByaW1lLWN1c3RvbWVyPTIiLCAncnQnOiAnbEFQdFZuc21yJywgJ3R4dCc6ICdUb3AgVFYnLCAnb2Zmc2V0JzogMCwgJ25wc2knOiAwLCAnb3JlcSc6ICczNzQ0NTc2NS1mMDY4LTQ3MzctYjlkZi01NzNlOTI0NmRmOWQ6MTYxMDY0MTI3NDAwMCcsICdzdHJpZCc6ICcxOjFJQVlHMEJVVDFFVk8jI01aUVdHWkxVTVZTRUdZTFNONTJYR1pMTScsICdvcmVxayc6ICdqc0RqMFFsMHpyV0JZRFR5SHE4UG5EcW1HN2ZySmkzNXJ4ekV6REV6aXJJPScsICdvcmVxa3YnOiAxfQ==\n"
     ]
    }
   ],
   "source": [
    "# import base64\n",
    "# import uuid\n",
    "# from datetime import datetime\n",
    "\n",
    "# def generate_service_token(npsi):\n",
    "#     # Generate UUID and epoch timestamp\n",
    "#     unique_id = str(uuid.uuid4())\n",
    "#     epoch_timestamp = int((datetime.utcnow() - datetime(1970, 1, 1)).total_seconds())\n",
    "\n",
    "#     # Create oreq in the required format: uuid:epoch_timestamp\n",
    "#     oreq = f\"{unique_id}:{epoch_timestamp}\"\n",
    "\n",
    "#     # Convert oreq to bytes and base64 encode\n",
    "#     encoded_oreq = base64.b64encode(oreq.encode()).decode()\n",
    "\n",
    "#     # Create the JSON object with the provided \"npsi\"\n",
    "#     data = {\n",
    "#     \"type\": \"query\",\n",
    "#     \"nav\": True,\n",
    "#     \"pi\": \"default\",\n",
    "#     \"sec\": \"center\",\n",
    "#     \"stype\": \"search\",\n",
    "#     \"qry\": \"p_n_entity_type=TV Show&index=eu-amazon-video-other&adult-product=0&bq=(and sort:'featured-rank' (not av_primary_genre:'children'))&av_by_type_in_territory=IN:svod:prime&search-alias=instant-video&qs-av_request_type=4&qs-is-prime-customer=2\",\n",
    "#     \"rt\": \"lAPtVnsmr\",\n",
    "#     \"txt\": \"Top TV\",\n",
    "#     \"offset\": 0,\n",
    "#     \"npsi\": 0,\n",
    "#     \"oreq\": \"37445765-f068-4737-b9df-573e9246df9d:1610641274000\",\n",
    "#     \"strid\": \"1:1IAYG0BUT1EVO##MZQWGZLUMVSEGYLSN52XGZLM\",\n",
    "#     \"oreqk\": \"jsDj0Ql0zrWBYDTyHq8PnDqmG7frJi35rxzEzDEzirI=\",\n",
    "#     \"oreqkv\": 1\n",
    "# }\n",
    "\n",
    "#     # Convert the JSON object to bytes and base64 encode\n",
    "#     encoded_data = base64.b64encode(str(data).encode()).decode()\n",
    "\n",
    "#     return encoded_data\n",
    "\n",
    "# # Example usage\n",
    "# npsi_value = 20  # Replace this with the actual \"npsi\" value\n",
    "# service_token = generate_service_token(npsi_value)\n",
    "# print(service_token)\n"
   ]
  },
  {
   "cell_type": "code",
   "execution_count": null,
   "id": "861a8918",
   "metadata": {},
   "outputs": [],
   "source": []
  }
 ],
 "metadata": {
  "kernelspec": {
   "display_name": "Python 3 (ipykernel)",
   "language": "python",
   "name": "python3"
  },
  "language_info": {
   "codemirror_mode": {
    "name": "ipython",
    "version": 3
   },
   "file_extension": ".py",
   "mimetype": "text/x-python",
   "name": "python",
   "nbconvert_exporter": "python",
   "pygments_lexer": "ipython3",
   "version": "3.10.10"
  }
 },
 "nbformat": 4,
 "nbformat_minor": 5
}
