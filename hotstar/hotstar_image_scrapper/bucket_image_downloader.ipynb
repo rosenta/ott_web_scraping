{
 "cells": [
  {
   "cell_type": "code",
   "execution_count": 1,
   "metadata": {},
   "outputs": [],
   "source": [
    "import os\n",
    "import json\n",
    "import time\n",
    "import requests\n",
    "import numpy as np\n",
    "from PIL import Image\n",
    "from io import BytesIO\n",
    "import warnings\n",
    "warnings.filterwarnings(\"ignore\")\n"
   ]
  },
  {
   "cell_type": "code",
   "execution_count": 2,
   "metadata": {},
   "outputs": [],
   "source": [
    "def load_image_from_url(url):\n",
    "    response = requests.get(url, verify=False)\n",
    "    image_extension = None\n",
    "    \n",
    "    # Get the content type from the response headers\n",
    "    content_type = response.headers.get('Content-Type')\n",
    "    \n",
    "    # Determine the image format from the content type\n",
    "    if content_type == 'image/jpeg':\n",
    "        image_extension = '.jpg'\n",
    "    elif content_type == 'image/png':\n",
    "        image_extension = '.png'\n",
    "    elif content_type == 'image/gif':\n",
    "        image_extension = '.gif'\n",
    "    elif content_type == 'image/webp':\n",
    "        image_extension = '.webp'\n",
    "    # Add more conditions for other image formats if needed\n",
    "    \n",
    "    # If image format is not determined, default to '.jpg'\n",
    "    if not image_extension:\n",
    "        image_extension = '.jpg'\n",
    "    \n",
    "    # Open the image from the response content\n",
    "    image = Image.open(BytesIO(response.content))\n",
    "    \n",
    "    return image, image_extension\n",
    "\n",
    "\n",
    "def detect_white_lines(image):\n",
    "    # Convert the image to grayscale\n",
    "    gray = image.convert('L')\n",
    "    \n",
    "    # Threshold the grayscale image to obtain a binary mask of the white lines\n",
    "    binary_mask = (np.array(gray) == 0) | (np.array(gray) == 1) | (np.array(gray) == 255)\n",
    "    \n",
    "    # Detect white lines in rows\n",
    "    white_lines_rows = np.all(binary_mask, axis=1)\n",
    "    \n",
    "    # Find the indices of white lines in rows\n",
    "    white_lines_row_indices = np.where(white_lines_rows)[0]\n",
    "    \n",
    "    return white_lines_row_indices\n",
    "\n",
    "def remove_rows(image, row_indices_to_remove):\n",
    "    # Convert the image to a NumPy array\n",
    "    image_array = np.array(image)\n",
    "    \n",
    "    # Create a mask for the rows to keep\n",
    "    mask = np.ones(image_array.shape[0], dtype=bool)\n",
    "    mask[row_indices_to_remove] = False\n",
    "    \n",
    "    # Remove the specified rows\n",
    "    cropped_image_array = image_array[mask]\n",
    "    \n",
    "    # Convert the cropped image array back to a PIL image\n",
    "    cropped_image = Image.fromarray(cropped_image_array)\n",
    "    \n",
    "    return cropped_image"
   ]
  },
  {
   "cell_type": "code",
   "execution_count": 3,
   "metadata": {},
   "outputs": [],
   "source": [
    "def remove_special_characters(title_name):\n",
    "    # Filter out non-alphanumeric characters and spaces\n",
    "    cleaned_title_name = ''.join(char for char in title_name if char.isalnum() or char.isspace())\n",
    "    return cleaned_title_name\n",
    "\n",
    "\n",
    "def process_image(image_url, title_name, bucket_folder_path):\n",
    "    # Load image from URL\n",
    "    image, image_ext = load_image_from_url(image_url)\n",
    "    \n",
    "    # Detect and remove white lines\n",
    "    row_indices = detect_white_lines(image)\n",
    "    cropped_image = remove_rows(image, row_indices)\n",
    "    \n",
    "    # Save the cropped image\n",
    "    title_name = remove_special_characters(title_name)\n",
    "    save_path = os.path.join(bucket_folder_path, f\"{title_name}{image_ext}\")\n",
    "    cropped_image.save(save_path)\n",
    "\n",
    "def process_images(images_data, images_folder):\n",
    "    if not os.path.exists(images_folder):\n",
    "        os.makedirs(images_folder, exist_ok=True)\n",
    "    \n",
    "    for bucket_name, bucket_content in images_data.items():\n",
    "        print(f\"Bucket Name: {bucket_name}\\t| Processing {len(bucket_content)} contents poster images...\")\n",
    "        bucket_folder_path = os.path.join(images_folder, bucket_name)\n",
    "        os.makedirs(bucket_folder_path, exist_ok=True)\n",
    "        \n",
    "        for title_name, title_poster_url in bucket_content.items():\n",
    "            process_image(title_poster_url, title_name, bucket_folder_path)\n",
    "\n",
    "        time.sleep(20)\n"
   ]
  },
  {
   "cell_type": "code",
   "execution_count": 4,
   "metadata": {},
   "outputs": [
    {
     "name": "stdout",
     "output_type": "stream",
     "text": [
      "Bucket Name: Popular in Crime\t| Processing 43 contents poster images...\n",
      "Bucket Name: Popular in Comedy\t| Processing 47 contents poster images...\n",
      "Bucket Name: Popular in Biopic\t| Processing 25 contents poster images...\n",
      "Bucket Name: Top Rated on IMDb\t| Processing 40 contents poster images...\n",
      "Bucket Name: Thriller Movies\t| Processing 39 contents poster images...\n",
      "Bucket Name: Comedy Movies\t| Processing 40 contents poster images...\n",
      "Bucket Name: Latest Releases\t| Processing 31 contents poster images...\n"
     ]
    }
   ],
   "source": [
    "if __name__ == \"__main__\":\n",
    "    # Example usage:\n",
    "    images_folder = \"./vertical_poster_images\"\n",
    "    if not os.path.exists(images_folder):\n",
    "        os.makedirs(images_folder)\n",
    "    with open(\"buckets_contents_image_urls.json\", \"r\") as f:\n",
    "        bucket_contents_data = json.load(f)\n",
    "\n",
    "    process_images(bucket_contents_data, images_folder)\n"
   ]
  },
  {
   "cell_type": "code",
   "execution_count": 5,
   "metadata": {},
   "outputs": [],
   "source": [
    "# title_poster_url = \"https://img10.hotstar.com/image/upload/sources/r1/cms/prod/9446/1711972319446-v\"\n",
    "# title_name = \"extraordinary birder with christian cooper\"\n",
    "# images_folder = \"/Users/rosenta/Downloads/\"\n",
    "# process_image(title_poster_url, title_name, images_folder)"
   ]
  },
  {
   "cell_type": "code",
   "execution_count": 6,
   "metadata": {},
   "outputs": [],
   "source": [
    "import os"
   ]
  },
  {
   "cell_type": "code",
   "execution_count": 11,
   "metadata": {},
   "outputs": [
    {
     "name": "stdout",
     "output_type": "stream",
     "text": [
      "zip -r zipped_folder/Popular_in_Thriller.zip 'Popular in Thriller'\n",
      "zip -r zipped_folder/Latest_Releases.zip 'Latest Releases'\n",
      "zip -r zipped_folder/Popular_Movies.zip 'Popular Movies'\n",
      "zip -r zipped_folder/Popular_in_Biopic.zip 'Popular in Biopic'\n",
      "zip -r zipped_folder/.DS_Store.zip '.DS_Store'\n",
      "zip -r zipped_folder/Popular_in_Crime.zip 'Popular in Crime'\n",
      "zip -r zipped_folder/Popular_in_Romance.zip 'Popular in Romance'\n",
      "zip -r zipped_folder/Popular_in_Action.zip 'Popular in Action'\n",
      "zip -r zipped_folder/Free_-_Newly_Added.zip 'Free - Newly Added'\n",
      "zip -r zipped_folder/Thriller_Movies.zip 'Thriller Movies'\n",
      "zip -r zipped_folder/Comedy_Movies.zip 'Comedy Movies'\n",
      "zip -r zipped_folder/Critically_Acclaimed_Movies.zip 'Critically Acclaimed Movies'\n",
      "zip -r zipped_folder/Exclusive_Indian_Movies.zip 'Exclusive Indian Movies'\n",
      "zip -r zipped_folder/Hand-Picked_For_Couples.zip 'Hand-Picked For Couples'\n",
      "zip -r zipped_folder/Watch_with_Friends.zip 'Watch with Friends'\n",
      "zip -r zipped_folder/Popular_Shows.zip 'Popular Shows'\n",
      "zip -r zipped_folder/Movies_from_the_2010s.zip 'Movies from the 2010s'\n",
      "zip -r zipped_folder/zipped_folders.zip 'zipped_folders'\n",
      "zip -r zipped_folder/Popular_in_Comedy.zip 'Popular in Comedy'\n",
      "zip -r zipped_folder/Top_Rated_on_IMDb.zip 'Top Rated on IMDb'\n",
      "zip -r zipped_folder/Best_of_Superheroes.zip 'Best of Superheroes'\n"
     ]
    }
   ],
   "source": [
    "for i in os.listdir(images_folder):\n",
    "    s = i.replace(\" \", '_')\n",
    "    print(f\"zip -r zipped_folder/{s}.zip '{i}'\")"
   ]
  },
  {
   "cell_type": "code",
   "execution_count": null,
   "metadata": {},
   "outputs": [],
   "source": []
  }
 ],
 "metadata": {
  "kernelspec": {
   "display_name": "base",
   "language": "python",
   "name": "python3"
  },
  "language_info": {
   "codemirror_mode": {
    "name": "ipython",
    "version": 3
   },
   "file_extension": ".py",
   "mimetype": "text/x-python",
   "name": "python",
   "nbconvert_exporter": "python",
   "pygments_lexer": "ipython3",
   "version": "3.10.10"
  }
 },
 "nbformat": 4,
 "nbformat_minor": 2
}
